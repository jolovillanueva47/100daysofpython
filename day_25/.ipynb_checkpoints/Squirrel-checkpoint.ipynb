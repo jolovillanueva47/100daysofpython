{
 "cells": [
  {
   "cell_type": "code",
   "execution_count": 7,
   "id": "concerned-surveillance",
   "metadata": {},
   "outputs": [],
   "source": [
    "import pandas as pd"
   ]
  },
  {
   "cell_type": "code",
   "execution_count": 8,
   "id": "wound-month",
   "metadata": {},
   "outputs": [],
   "source": [
    "data=pd.read_csv(\"squirrel_data.csv\")"
   ]
  },
  {
   "cell_type": "code",
   "execution_count": 9,
   "id": "afraid-houston",
   "metadata": {},
   "outputs": [
    {
     "name": "stdout",
     "output_type": "stream",
     "text": [
      "              X          Y Unique Squirrel ID Hectare Shift      Date  \\\n",
      "0    -73.956134  40.794082     37F-PM-1014-03     37F    PM  10142018   \n",
      "1    -73.968857  40.783783     21B-AM-1019-04     21B    AM  10192018   \n",
      "2    -73.974281  40.775534     11B-PM-1014-08     11B    PM  10142018   \n",
      "3    -73.959641  40.790313     32E-PM-1017-14     32E    PM  10172018   \n",
      "4    -73.970268  40.776213     13E-AM-1017-05     13E    AM  10172018   \n",
      "...         ...        ...                ...     ...   ...       ...   \n",
      "3018 -73.963943  40.790868     30B-AM-1007-04     30B    AM  10072018   \n",
      "3019 -73.970402  40.782560     19A-PM-1013-05     19A    PM  10132018   \n",
      "3020 -73.966587  40.783678     22D-PM-1012-07     22D    PM  10122018   \n",
      "3021 -73.963994  40.789915     29B-PM-1010-02     29B    PM  10102018   \n",
      "3022 -73.975479  40.769640      5E-PM-1012-01     05E    PM  10122018   \n",
      "\n",
      "      Hectare Squirrel Number    Age Primary Fur Color  \\\n",
      "0                           3    NaN               NaN   \n",
      "1                           4    NaN               NaN   \n",
      "2                           8    NaN              Gray   \n",
      "3                          14  Adult              Gray   \n",
      "4                           5  Adult              Gray   \n",
      "...                       ...    ...               ...   \n",
      "3018                        4  Adult              Gray   \n",
      "3019                        5  Adult              Gray   \n",
      "3020                        7  Adult              Gray   \n",
      "3021                        2    NaN              Gray   \n",
      "3022                        1  Adult          Cinnamon   \n",
      "\n",
      "         Highlight Fur Color  ...   Kuks  Quaas  Moans Tail flags  \\\n",
      "0                        NaN  ...  False  False  False      False   \n",
      "1                        NaN  ...  False  False  False      False   \n",
      "2                        NaN  ...  False  False  False      False   \n",
      "3                        NaN  ...  False  False  False      False   \n",
      "4                   Cinnamon  ...  False  False  False      False   \n",
      "...                      ...  ...    ...    ...    ...        ...   \n",
      "3018                     NaN  ...  False  False  False      False   \n",
      "3019                   White  ...  False  False  False      False   \n",
      "3020  Black, Cinnamon, White  ...  False  False  False      False   \n",
      "3021         Cinnamon, White  ...  False  False  False      False   \n",
      "3022             Gray, White  ...  False  False  False      False   \n",
      "\n",
      "     Tail twitches  Approaches  Indifferent  Runs from  Other Interactions  \\\n",
      "0            False       False        False      False                 NaN   \n",
      "1            False       False        False      False                 NaN   \n",
      "2            False       False        False      False                 NaN   \n",
      "3            False       False        False       True                 NaN   \n",
      "4            False       False        False      False                 NaN   \n",
      "...            ...         ...          ...        ...                 ...   \n",
      "3018         False       False        False       True                 NaN   \n",
      "3019         False       False         True      False                 NaN   \n",
      "3020         False       False         True      False                 NaN   \n",
      "3021         False       False         True      False                 NaN   \n",
      "3022         False        True        False      False                 NaN   \n",
      "\n",
      "                                        Lat/Long  \n",
      "0     POINT (-73.9561344937861 40.7940823884086)  \n",
      "1     POINT (-73.9688574691102 40.7837825208444)  \n",
      "2     POINT (-73.97428114848522 40.775533619083)  \n",
      "3     POINT (-73.9596413903948 40.7903128889029)  \n",
      "4     POINT (-73.9702676472613 40.7762126854894)  \n",
      "...                                          ...  \n",
      "3018  POINT (-73.9639431360458 40.7908677445466)  \n",
      "3019  POINT (-73.9704015859639 40.7825600069973)  \n",
      "3020  POINT (-73.9665871993517 40.7836775064883)  \n",
      "3021  POINT (-73.9639941227864 40.7899152327912)  \n",
      "3022  POINT (-73.9754794191553 40.7696404489025)  \n",
      "\n",
      "[3023 rows x 31 columns]\n"
     ]
    }
   ],
   "source": [
    "print(data)"
   ]
  },
  {
   "cell_type": "code",
   "execution_count": 18,
   "id": "sized-reporter",
   "metadata": {},
   "outputs": [
    {
     "name": "stdout",
     "output_type": "stream",
     "text": [
      "[nan 'Gray' 'Cinnamon' 'Black']\n"
     ]
    }
   ],
   "source": [
    "print(data[\"Primary Fur Color\"].unique())"
   ]
  },
  {
   "cell_type": "markdown",
   "id": "prime-pantyhose",
   "metadata": {},
   "source": [
    "**Get count of primary fur colors**\n",
    "***"
   ]
  },
  {
   "cell_type": "code",
   "execution_count": 28,
   "id": "earned-beverage",
   "metadata": {},
   "outputs": [],
   "source": [
    "colors_count=data[\"Primary Fur Color\"].value_counts().to_list()"
   ]
  },
  {
   "cell_type": "code",
   "execution_count": 30,
   "id": "endless-thousand",
   "metadata": {},
   "outputs": [
    {
     "name": "stdout",
     "output_type": "stream",
     "text": [
      "[2473, 392, 103]\n"
     ]
    }
   ],
   "source": [
    "print(colors_count)"
   ]
  },
  {
   "cell_type": "markdown",
   "id": "surface-washer",
   "metadata": {},
   "source": [
    "**Get primary fur colors then put in list**\n",
    "***"
   ]
  },
  {
   "cell_type": "code",
   "execution_count": 33,
   "id": "accomplished-hollow",
   "metadata": {},
   "outputs": [],
   "source": [
    "colors_list=data[\"Primary Fur Color\"].dropna().unique()"
   ]
  },
  {
   "cell_type": "code",
   "execution_count": 34,
   "id": "moved-margin",
   "metadata": {},
   "outputs": [
    {
     "name": "stdout",
     "output_type": "stream",
     "text": [
      "['Gray' 'Cinnamon' 'Black']\n"
     ]
    }
   ],
   "source": [
    "print(colors_list)"
   ]
  },
  {
   "cell_type": "markdown",
   "id": "entire-product",
   "metadata": {},
   "source": [
    "**Create a dictionary then convert into dataframe**\n",
    "***"
   ]
  },
  {
   "cell_type": "code",
   "execution_count": 35,
   "id": "least-peace",
   "metadata": {},
   "outputs": [],
   "source": [
    "data_dict={\n",
    "    \"Fur Color\":colors_list,\n",
    "    \"Count\":colors_count\n",
    "}"
   ]
  },
  {
   "cell_type": "code",
   "execution_count": 36,
   "id": "sustained-radar",
   "metadata": {},
   "outputs": [],
   "source": [
    "color_data=pd.DataFrame(data_dict)"
   ]
  },
  {
   "cell_type": "code",
   "execution_count": 37,
   "id": "variable-israel",
   "metadata": {},
   "outputs": [
    {
     "name": "stdout",
     "output_type": "stream",
     "text": [
      "  Fur Color  Count\n",
      "0      Gray   2473\n",
      "1  Cinnamon    392\n",
      "2     Black    103\n"
     ]
    }
   ],
   "source": [
    "print(color_data)"
   ]
  },
  {
   "cell_type": "markdown",
   "id": "outer-richmond",
   "metadata": {},
   "source": [
    "**Create a new csv file**\n",
    "***"
   ]
  },
  {
   "cell_type": "code",
   "execution_count": 38,
   "id": "expanded-divorce",
   "metadata": {},
   "outputs": [],
   "source": [
    "color_data.to_csv(\"squirrel_count.csv\")"
   ]
  }
 ],
 "metadata": {
  "kernelspec": {
   "display_name": "Python 3",
   "language": "python",
   "name": "python3"
  },
  "language_info": {
   "codemirror_mode": {
    "name": "ipython",
    "version": 3
   },
   "file_extension": ".py",
   "mimetype": "text/x-python",
   "name": "python",
   "nbconvert_exporter": "python",
   "pygments_lexer": "ipython3",
   "version": "3.8.5"
  }
 },
 "nbformat": 4,
 "nbformat_minor": 5
}
