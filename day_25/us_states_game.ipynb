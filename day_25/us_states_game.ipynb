{
 "cells": [
  {
   "cell_type": "code",
   "execution_count": 9,
   "id": "supreme-accountability",
   "metadata": {},
   "outputs": [],
   "source": [
    "import pandas as pd\n"
   ]
  },
  {
   "cell_type": "code",
   "execution_count": 12,
   "id": "lucky-stage",
   "metadata": {},
   "outputs": [],
   "source": [
    "data=pd.read_csv(\"50_states.csv\")"
   ]
  },
  {
   "cell_type": "code",
   "execution_count": 13,
   "id": "quiet-portal",
   "metadata": {},
   "outputs": [
    {
     "name": "stdout",
     "output_type": "stream",
     "text": [
      "             state    x    y\n",
      "0          Alabama  139  -77\n",
      "1           Alaska -204 -170\n",
      "2          Arizona -203  -40\n",
      "3         Arkansas   57  -53\n",
      "4       California -297   13\n",
      "5         Colorado -112   20\n",
      "6      Connecticut  297   96\n",
      "7         Delaware  275   42\n",
      "8          Florida  220 -145\n",
      "9          Georgia  182  -75\n",
      "10          Hawaii -317 -143\n",
      "11           Idaho -216  122\n",
      "12        Illinois   95   37\n",
      "13         Indiana  133   39\n",
      "14            Iowa   38   65\n",
      "15          Kansas  -17    5\n",
      "16        Kentucky  149    1\n",
      "17       Louisiana   59 -114\n",
      "18           Maine  319  164\n",
      "19        Maryland  288   27\n",
      "20   Massachusetts  312  112\n",
      "21        Michigan  148  101\n",
      "22       Minnesota   23  135\n",
      "23     Mississippi   94  -78\n",
      "24        Missouri   49    6\n",
      "25         Montana -141  150\n",
      "26        Nebraska  -61   66\n",
      "27          Nevada -257   56\n",
      "28   New Hampshire  302  127\n",
      "29      New Jersey  282   65\n",
      "30      New Mexico -128  -43\n",
      "31        New York  236  104\n",
      "32  North Carolina  239  -22\n",
      "33    North Dakota  -44  158\n",
      "34            Ohio  176   52\n",
      "35        Oklahoma   -8  -41\n",
      "36          Oregon -278  138\n",
      "37    Pennsylvania  238   72\n",
      "38    Rhode Island  318   94\n",
      "39  South Carolina  218  -51\n",
      "40    South Dakota  -44  109\n",
      "41       Tennessee  131  -34\n",
      "42           Texas  -38 -106\n",
      "43            Utah -189   34\n",
      "44         Vermont  282  154\n",
      "45        Virginia  234   12\n",
      "46      Washington -257  193\n",
      "47   West Virginia  200   20\n",
      "48       Wisconsin   83  113\n",
      "49         Wyoming -134   90\n"
     ]
    }
   ],
   "source": [
    "print(data)"
   ]
  },
  {
   "cell_type": "code",
   "execution_count": 16,
   "id": "spiritual-roommate",
   "metadata": {},
   "outputs": [
    {
     "name": "stdout",
     "output_type": "stream",
     "text": [
      "Empty DataFrame\n",
      "Columns: [state, x, y]\n",
      "Index: []\n"
     ]
    }
   ],
   "source": [
    "print(data[data.state==\"AB\"])"
   ]
  },
  {
   "cell_type": "code",
   "execution_count": 19,
   "id": "parallel-chorus",
   "metadata": {},
   "outputs": [
    {
     "name": "stdout",
     "output_type": "stream",
     "text": [
      "Found state\n"
     ]
    }
   ],
   "source": [
    "if 'Wyoming' in data.values:\n",
    "    print(\"Found state\")\n",
    "else:\n",
    "    print(\"not found\")"
   ]
  },
  {
   "cell_type": "code",
   "execution_count": 20,
   "id": "geographic-causing",
   "metadata": {},
   "outputs": [
    {
     "ename": "AttributeError",
     "evalue": "'DataFrame' object has no attribute 'to_list'",
     "output_type": "error",
     "traceback": [
      "\u001b[0;31m---------------------------------------------------------------------------\u001b[0m",
      "\u001b[0;31mAttributeError\u001b[0m                            Traceback (most recent call last)",
      "\u001b[0;32m<ipython-input-20-daa01dddb3f6>\u001b[0m in \u001b[0;36m<module>\u001b[0;34m\u001b[0m\n\u001b[0;32m----> 1\u001b[0;31m \u001b[0mstates_list\u001b[0m\u001b[0;34m=\u001b[0m\u001b[0mdata\u001b[0m\u001b[0;34m.\u001b[0m\u001b[0mto_list\u001b[0m\u001b[0;34m(\u001b[0m\u001b[0;34m)\u001b[0m\u001b[0;34m\u001b[0m\u001b[0;34m\u001b[0m\u001b[0m\n\u001b[0m\u001b[1;32m      2\u001b[0m \u001b[0mprint\u001b[0m\u001b[0;34m(\u001b[0m\u001b[0mstates_list\u001b[0m\u001b[0;34m)\u001b[0m\u001b[0;34m\u001b[0m\u001b[0;34m\u001b[0m\u001b[0m\n",
      "\u001b[0;32m~/.local/lib/python3.8/site-packages/pandas/core/generic.py\u001b[0m in \u001b[0;36m__getattr__\u001b[0;34m(self, name)\u001b[0m\n\u001b[1;32m   5460\u001b[0m             \u001b[0;32mif\u001b[0m \u001b[0mself\u001b[0m\u001b[0;34m.\u001b[0m\u001b[0m_info_axis\u001b[0m\u001b[0;34m.\u001b[0m\u001b[0m_can_hold_identifiers_and_holds_name\u001b[0m\u001b[0;34m(\u001b[0m\u001b[0mname\u001b[0m\u001b[0;34m)\u001b[0m\u001b[0;34m:\u001b[0m\u001b[0;34m\u001b[0m\u001b[0;34m\u001b[0m\u001b[0m\n\u001b[1;32m   5461\u001b[0m                 \u001b[0;32mreturn\u001b[0m \u001b[0mself\u001b[0m\u001b[0;34m[\u001b[0m\u001b[0mname\u001b[0m\u001b[0;34m]\u001b[0m\u001b[0;34m\u001b[0m\u001b[0;34m\u001b[0m\u001b[0m\n\u001b[0;32m-> 5462\u001b[0;31m             \u001b[0;32mreturn\u001b[0m \u001b[0mobject\u001b[0m\u001b[0;34m.\u001b[0m\u001b[0m__getattribute__\u001b[0m\u001b[0;34m(\u001b[0m\u001b[0mself\u001b[0m\u001b[0;34m,\u001b[0m \u001b[0mname\u001b[0m\u001b[0;34m)\u001b[0m\u001b[0;34m\u001b[0m\u001b[0;34m\u001b[0m\u001b[0m\n\u001b[0m\u001b[1;32m   5463\u001b[0m \u001b[0;34m\u001b[0m\u001b[0m\n\u001b[1;32m   5464\u001b[0m     \u001b[0;32mdef\u001b[0m \u001b[0m__setattr__\u001b[0m\u001b[0;34m(\u001b[0m\u001b[0mself\u001b[0m\u001b[0;34m,\u001b[0m \u001b[0mname\u001b[0m\u001b[0;34m:\u001b[0m \u001b[0mstr\u001b[0m\u001b[0;34m,\u001b[0m \u001b[0mvalue\u001b[0m\u001b[0;34m)\u001b[0m \u001b[0;34m->\u001b[0m \u001b[0;32mNone\u001b[0m\u001b[0;34m:\u001b[0m\u001b[0;34m\u001b[0m\u001b[0;34m\u001b[0m\u001b[0m\n",
      "\u001b[0;31mAttributeError\u001b[0m: 'DataFrame' object has no attribute 'to_list'"
     ]
    }
   ],
   "source": [
    "states_list=data.to_list()\n",
    "print(states_list)"
   ]
  },
  {
   "cell_type": "code",
   "execution_count": 21,
   "id": "sustainable-buddy",
   "metadata": {},
   "outputs": [
    {
     "name": "stdout",
     "output_type": "stream",
     "text": [
      "49   -134\n",
      "Name: x, dtype: int64\n"
     ]
    }
   ],
   "source": [
    "print(data[data.state==\"Wyoming\"].x)"
   ]
  }
 ],
 "metadata": {
  "kernelspec": {
   "display_name": "Python 3",
   "language": "python",
   "name": "python3"
  },
  "language_info": {
   "codemirror_mode": {
    "name": "ipython",
    "version": 3
   },
   "file_extension": ".py",
   "mimetype": "text/x-python",
   "name": "python",
   "nbconvert_exporter": "python",
   "pygments_lexer": "ipython3",
   "version": "3.8.5"
  }
 },
 "nbformat": 4,
 "nbformat_minor": 5
}
